{
 "cells": [
  {
   "cell_type": "markdown",
   "id": "4be7a9ea-7646-4ec1-8f0a-5b5961c318fe",
   "metadata": {},
   "source": [
    "# Scraping Data from Zillow"
   ]
  },
  {
   "cell_type": "code",
   "execution_count": 1,
   "id": "5da7b2c6-ffbc-4a70-a354-d53b2169841c",
   "metadata": {
    "tags": []
   },
   "outputs": [],
   "source": [
    "import pandas as pd\n",
    "from bs4 import BeautifulSoup\n",
    "import requests\n",
    "import smtplib\n",
    "import time\n",
    "import datetime\n",
    "import csv"
   ]
  },
  {
   "cell_type": "code",
   "execution_count": 2,
   "id": "48b358ce-a874-48bf-b7a3-13c651e130d2",
   "metadata": {
    "tags": []
   },
   "outputs": [],
   "source": [
    "price_list = []\n",
    "address_list = []\n",
    "property_details = []\n",
    "sellers_details = []"
   ]
  },
  {
   "cell_type": "code",
   "execution_count": 3,
   "id": "6e2da15c-788a-4bed-bd5c-173f0a31c2fb",
   "metadata": {
    "tags": []
   },
   "outputs": [],
   "source": [
    "URL = 'https://www.zillow.com/rocky-mount-nc-27804/3_p/?searchQueryState=%7B%22isMapVisible%22%3Atrue%2C%22mapBounds%22%3A%7B%22north%22%3A36.06742608965267%2C%22south%22%3A35.911863558442064%2C%22east%22%3A-77.71294215771485%2C%22west%22%3A-77.98279384228516%7D%2C%22usersSearchTerm%22%3A%2227804%22%2C%22filterState%22%3A%7B%22price%22%3A%7B%22min%22%3A0%7D%2C%22mp%22%3A%7B%22min%22%3A0%7D%2C%22ah%22%3A%7B%22value%22%3Atrue%7D%2C%22sort%22%3A%7B%22value%22%3A%22globalrelevanceex%22%7D%7D%2C%22isListVisible%22%3Atrue%2C%22mapZoom%22%3A12%2C%22regionSelection%22%3A%5B%7B%22regionId%22%3A69504%2C%22regionType%22%3A7%7D%2C%7B%22regionId%22%3A15599%2C%22regionType%22%3A6%7D%2C%7B%22regionId%22%3A7962%2C%22regionType%22%3A6%7D%5D%2C%22pagination%22%3A%7B%22currentPage%22%3A3%7D%7D'\n",
    "headers = {\"User-Agent\":\"Mozilla/5.0 (Windows NT 10.0; Win64; x64) AppleWebKit/537.36 (KHTML, like Gecko) Chrome/123.0.0.0 Safari/537.36\",\n",
    "          \"referer\" : \"https://www.zillow.com/rocky-mount-nc-27804/?searchQueryState=%7B%22isMapVisible%22%3Afalse%2C%22mapBounds%22%3A%7B%22north%22%3A36.043205%2C%22south%22%3A35.936125%2C%22east%22%3A-77.754645%2C%22west%22%3A-77.941091%7D%2C%22usersSearchTerm%22%3A%2227804%22%2C%22filterState%22%3A%7B%22price%22%3A%7B%22min%22%3A0%7D%2C%22mp%22%3A%7B%22min%22%3A0%7D%2C%22ah%22%3A%7B%22value%22%3Atrue%7D%2C%22sort%22%3A%7B%22value%22%3A%22globalrelevanceex%22%7D%7D%2C%22isListVisible%22%3Atrue%2C%22mapZoom%22%3A12%2C%22regionSelection%22%3A%5B%7B%22regionId%22%3A69504%2C%22regionType%22%3A7%7D%5D%2C%22pagination%22%3A%7B%7D%7D\"}"
   ]
  },
  {
   "cell_type": "code",
   "execution_count": 5,
   "id": "8d6c413c-5702-4d8b-b990-504a528512a5",
   "metadata": {
    "tags": []
   },
   "outputs": [],
   "source": [
    "page = requests.get(URL, headers=headers)\n",
    "\n",
    "soup1 = BeautifulSoup(page.content, \"html.parser\")\n",
    "\n",
    "soup2 = BeautifulSoup(soup1.prettify(), \"html.parser\")"
   ]
  },
  {
   "cell_type": "code",
   "execution_count": 12,
   "id": "030011e4-100a-4818-821f-d8448b99cd8e",
   "metadata": {},
   "outputs": [],
   "source": [
    "with requests.session() as s:\n",
    "    city = 'rocky-mount-nc/'\n",
    "    page = 1\n",
    "    end_page = 4\n",
    "    url = ''\n",
    "    url_list = []\n",
    "    \n",
    "    while page <= end_page:\n",
    "        url = 'https://www.zillow.com/' +city+ f'{page}_p/'\n",
    "        url_list.append(url)\n",
    "        page += 1\n",
    "    \n",
    "    request = ''\n",
    "    request_list = []\n",
    "    \n",
    "    for url in url_list:\n",
    "        request = s.get(url, headers=headers)\n",
    "        request_list.append(request)\n",
    "    \n",
    "soup = ''\n",
    "soup_list = []\n",
    "\n",
    "for request in request_list:\n",
    "    soup = BeautifulSoup(request.content, 'html.parser')\n",
    "    soup_list.append(soup)"
   ]
  },
  {
   "cell_type": "code",
   "execution_count": null,
   "id": "12fad001-b147-4448-8fba-4e06d1ea3292",
   "metadata": {
    "tags": []
   },
   "outputs": [],
   "source": [
    "print(price_list)"
   ]
  },
  {
   "cell_type": "code",
   "execution_count": 16,
   "id": "eff4845b-b3b3-49b0-9b49-11927ae6bdf9",
   "metadata": {
    "tags": []
   },
   "outputs": [],
   "source": [
    "for soup in soup_list:\n",
    "    for i in soup:\n",
    "        for price_element in soup.find_all(\"span\", class_=\"PropertyCardWrapper__StyledPriceLine-srp-8-100-7__sc-16e8gqd-1 djgngA\"):\n",
    "            price_text = price_element.get_text(strip=True)\n",
    "            price_list.append(price_text)\n",
    "\n",
    "        for address_element in soup.find_all(\"address\"):\n",
    "            address_text = address_element.get_text(strip = True)\n",
    "            address_list.append(address_text)\n",
    "\n",
    "        for details_element in soup.find_all(\"div\", class_=\"StyledPropertyCardDataArea-c11n-8-100-7__sc-10i1r6-0 eObjGE\"):\n",
    "            details_text = details_element.get_text(strip = True)\n",
    "            property_details.append(details_text)\n",
    "\n",
    "        for sellers_element in soup.find_all(\"div\", class_=\"StyledPropertyCardDataArea-c11n-8-100-7__sc-10i1r6-0 tpJJE\"):\n",
    "            sellers_text = sellers_element.get_text(strip = True)\n",
    "            sellers_details.append(sellers_text)\n"
   ]
  },
  {
   "cell_type": "code",
   "execution_count": 19,
   "id": "46e995da-cbca-4f1e-baa0-b6358b968d8d",
   "metadata": {
    "tags": []
   },
   "outputs": [],
   "source": [
    "data = zip(price_list, address_list, property_details, sellers_details)\n",
    "\n",
    "csv_file = \"RockyMount_House_data.csv\"\n",
    "\n",
    "with open(csv_file, mode='w', newline='') as file:\n",
    "    writer = csv.writer(file)\n",
    "    writer.writerow([\"Price\", \"Address\", \"Property Details\", \"Sellers Details\"])\n",
    "    writer.writerows(data)"
   ]
  },
  {
   "cell_type": "code",
   "execution_count": 18,
   "id": "7a2d2d63-0d47-4b7e-a073-012dc9481ae6",
   "metadata": {
    "tags": []
   },
   "outputs": [
    {
     "data": {
      "text/plain": [
       "['2900 Jason Dr, Rocky Mount, NC 27803',\n",
       " '126 S Harris Street, Rocky Mount, NC 27804',\n",
       " '2126 Coral Drive, Rocky Mount, NC 27801',\n",
       " '1414 Dogwood Avenue, Rocky Mount, NC 27804',\n",
       " '205 Ashmore Lane, Rocky Mount, NC 27804',\n",
       " '1809 Bethlehem Rd, Rocky Mount, NC 27803',\n",
       " '633 Powell Dr, Rocky Mount, NC 27803',\n",
       " '1222 Middlecrest Dr, Rocky Mount, NC 27804',\n",
       " '302 Ambler Avenue, Rocky Mount, NC 27801',\n",
       " '2900 Jason Dr, Rocky Mount, NC 27803',\n",
       " '126 S Harris Street, Rocky Mount, NC 27804',\n",
       " '2126 Coral Drive, Rocky Mount, NC 27801',\n",
       " '1414 Dogwood Avenue, Rocky Mount, NC 27804',\n",
       " '205 Ashmore Lane, Rocky Mount, NC 27804',\n",
       " '1809 Bethlehem Rd, Rocky Mount, NC 27803',\n",
       " '633 Powell Dr, Rocky Mount, NC 27803',\n",
       " '1222 Middlecrest Dr, Rocky Mount, NC 27804',\n",
       " '302 Ambler Avenue, Rocky Mount, NC 27801',\n",
       " '2900 Jason Dr, Rocky Mount, NC 27803',\n",
       " '126 S Harris Street, Rocky Mount, NC 27804',\n",
       " '2126 Coral Drive, Rocky Mount, NC 27801',\n",
       " '1414 Dogwood Avenue, Rocky Mount, NC 27804',\n",
       " '205 Ashmore Lane, Rocky Mount, NC 27804',\n",
       " '1809 Bethlehem Rd, Rocky Mount, NC 27803',\n",
       " '633 Powell Dr, Rocky Mount, NC 27803',\n",
       " '1222 Middlecrest Dr, Rocky Mount, NC 27804',\n",
       " '302 Ambler Avenue, Rocky Mount, NC 27801',\n",
       " '117 S Pine Street, Rocky Mount, NC 27804',\n",
       " '1253 Fairway Terrace, Rocky Mount, NC 27804',\n",
       " '3609 Mansfield Dr, Rocky Mount, NC 27803',\n",
       " '101 Falcon Road, Rocky Mount, NC 27801',\n",
       " '813 Henna Street, Rocky Mount, NC 27801',\n",
       " '1699 Yorkshire Lane, Rocky Mount, NC 27803',\n",
       " '293 Tayriver, Rocky Mount, NC 27804',\n",
       " '913 Nashville Road, Rocky Mount, NC 27803',\n",
       " '511 Hammond Street, Rocky Mount, NC 27804',\n",
       " '117 S Pine Street, Rocky Mount, NC 27804',\n",
       " '1253 Fairway Terrace, Rocky Mount, NC 27804',\n",
       " '3609 Mansfield Dr, Rocky Mount, NC 27803',\n",
       " '101 Falcon Road, Rocky Mount, NC 27801',\n",
       " '813 Henna Street, Rocky Mount, NC 27801',\n",
       " '1699 Yorkshire Lane, Rocky Mount, NC 27803',\n",
       " '293 Tayriver, Rocky Mount, NC 27804',\n",
       " '913 Nashville Road, Rocky Mount, NC 27803',\n",
       " '511 Hammond Street, Rocky Mount, NC 27804',\n",
       " '117 S Pine Street, Rocky Mount, NC 27804',\n",
       " '1253 Fairway Terrace, Rocky Mount, NC 27804',\n",
       " '3609 Mansfield Dr, Rocky Mount, NC 27803',\n",
       " '101 Falcon Road, Rocky Mount, NC 27801',\n",
       " '813 Henna Street, Rocky Mount, NC 27801',\n",
       " '1699 Yorkshire Lane, Rocky Mount, NC 27803',\n",
       " '293 Tayriver, Rocky Mount, NC 27804',\n",
       " '913 Nashville Road, Rocky Mount, NC 27803',\n",
       " '511 Hammond Street, Rocky Mount, NC 27804',\n",
       " '4037 Brassfield Drive, Rocky Mount, NC 27803',\n",
       " '104 Rum Barrell Cove, Rocky Mount, NC 27804',\n",
       " '105 Doves Mount Circle, Rocky Mount, NC 27801',\n",
       " '317 Iron Horse Rd, Rocky Mount, NC 27804',\n",
       " '628 Nashville Road, Rocky Mount, NC 27803',\n",
       " '804 Bell Drive, Rocky Mount, NC 27803',\n",
       " '2325 S Halifax Road, Rocky Mount, NC 27803',\n",
       " '3400 West Hampton Drive, Rocky Mount, NC 27804',\n",
       " '601 Starling Way, Rocky Mount, NC 27803',\n",
       " '4037 Brassfield Drive, Rocky Mount, NC 27803',\n",
       " '104 Rum Barrell Cove, Rocky Mount, NC 27804',\n",
       " '105 Doves Mount Circle, Rocky Mount, NC 27801',\n",
       " '317 Iron Horse Rd, Rocky Mount, NC 27804',\n",
       " '628 Nashville Road, Rocky Mount, NC 27803',\n",
       " '804 Bell Drive, Rocky Mount, NC 27803',\n",
       " '2325 S Halifax Road, Rocky Mount, NC 27803',\n",
       " '3400 West Hampton Drive, Rocky Mount, NC 27804',\n",
       " '601 Starling Way, Rocky Mount, NC 27803',\n",
       " '4037 Brassfield Drive, Rocky Mount, NC 27803',\n",
       " '104 Rum Barrell Cove, Rocky Mount, NC 27804',\n",
       " '105 Doves Mount Circle, Rocky Mount, NC 27801',\n",
       " '317 Iron Horse Rd, Rocky Mount, NC 27804',\n",
       " '628 Nashville Road, Rocky Mount, NC 27803',\n",
       " '804 Bell Drive, Rocky Mount, NC 27803',\n",
       " '2325 S Halifax Road, Rocky Mount, NC 27803',\n",
       " '3400 West Hampton Drive, Rocky Mount, NC 27804',\n",
       " '601 Starling Way, Rocky Mount, NC 27803',\n",
       " '38 Country Club Drive, Rocky Mount, NC 27804',\n",
       " '111 Glory Drive, Rocky Mount, NC 27801',\n",
       " '425 Henry St, Rocky Mount, NC 27803',\n",
       " '109 Ambergate Court, Rocky Mount, NC 27804',\n",
       " '109 E Holly Street, Rocky Mount, NC 27801',\n",
       " '4001 Newby Road, Rocky Mount, NC 27804',\n",
       " '905 Shearin St, Rocky Mount, NC 27801',\n",
       " '113 Vineyard Court, Rocky Mount, NC 27803',\n",
       " '103 Glory Drive, Rocky Mount, NC 27801',\n",
       " '38 Country Club Drive, Rocky Mount, NC 27804',\n",
       " '111 Glory Drive, Rocky Mount, NC 27801',\n",
       " '425 Henry St, Rocky Mount, NC 27803',\n",
       " '109 Ambergate Court, Rocky Mount, NC 27804',\n",
       " '109 E Holly Street, Rocky Mount, NC 27801',\n",
       " '4001 Newby Road, Rocky Mount, NC 27804',\n",
       " '905 Shearin St, Rocky Mount, NC 27801',\n",
       " '113 Vineyard Court, Rocky Mount, NC 27803',\n",
       " '103 Glory Drive, Rocky Mount, NC 27801',\n",
       " '38 Country Club Drive, Rocky Mount, NC 27804',\n",
       " '111 Glory Drive, Rocky Mount, NC 27801',\n",
       " '425 Henry St, Rocky Mount, NC 27803',\n",
       " '109 Ambergate Court, Rocky Mount, NC 27804',\n",
       " '109 E Holly Street, Rocky Mount, NC 27801',\n",
       " '4001 Newby Road, Rocky Mount, NC 27804',\n",
       " '905 Shearin St, Rocky Mount, NC 27801',\n",
       " '113 Vineyard Court, Rocky Mount, NC 27803',\n",
       " '103 Glory Drive, Rocky Mount, NC 27801']"
      ]
     },
     "execution_count": 18,
     "metadata": {},
     "output_type": "execute_result"
    }
   ],
   "source": [
    "address_list"
   ]
  },
  {
   "cell_type": "code",
   "execution_count": null,
   "id": "aeecaf1b-6162-47f9-a946-57ef6eac270c",
   "metadata": {},
   "outputs": [],
   "source": []
  }
 ],
 "metadata": {
  "kernelspec": {
   "display_name": "Python 3 (ipykernel)",
   "language": "python",
   "name": "python3"
  },
  "language_info": {
   "codemirror_mode": {
    "name": "ipython",
    "version": 3
   },
   "file_extension": ".py",
   "mimetype": "text/x-python",
   "name": "python",
   "nbconvert_exporter": "python",
   "pygments_lexer": "ipython3",
   "version": "3.11.5"
  }
 },
 "nbformat": 4,
 "nbformat_minor": 5
}
